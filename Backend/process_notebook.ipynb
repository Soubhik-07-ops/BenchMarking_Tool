{
 "cells": [
  {
   "cell_type": "code",
   "execution_count": null,
   "metadata": {},
   "outputs": [
    {
     "name": "stdout",
     "output_type": "stream",
     "text": [
      "Found 243 images belonging to 3 classes.\n",
      "Found 243 images belonging to 3 classes.\n"
     ]
    },
    {
     "name": "stderr",
     "output_type": "stream",
     "text": [
      "c:\\Users\\mrroy\\AppData\\Local\\Programs\\Python\\Python312\\Lib\\site-packages\\keras\\src\\trainers\\data_adapters\\py_dataset_adapter.py:121: UserWarning: Your `PyDataset` class should call `super().__init__(**kwargs)` in its constructor. `**kwargs` can include `workers`, `use_multiprocessing`, `max_queue_size`. Do not pass these arguments to `fit()`, as they will be ignored.\n",
      "  self._warn_if_super_not_called()\n"
     ]
    },
    {
     "name": "stdout",
     "output_type": "stream",
     "text": [
      "\u001b[1m8/8\u001b[0m \u001b[32m━━━━━━━━━━━━━━━━━━━━\u001b[0m\u001b[37m\u001b[0m \u001b[1m1s\u001b[0m 22ms/step - AUC: 0.9892 - Precision: 0.9064 - Recall: 0.9032 - accuracy: 0.9032 - loss: 0.2104\n",
      "Found 243 images belonging to 3 classes.\n",
      "Found 243 images belonging to 3 classes.\n",
      "\u001b[1m8/8\u001b[0m \u001b[32m━━━━━━━━━━━━━━━━━━━━\u001b[0m\u001b[37m\u001b[0m \u001b[1m1s\u001b[0m 23ms/step - AUC: 0.9892 - Precision: 0.9064 - Recall: 0.9032 - accuracy: 0.9032 - loss: 0.2104\n"
     ]
    }
   ],
   "source": [
    "import os\n",
    "import json\n",
    "import numpy as np\n",
    "from tensorflow.keras.models import load_model, Model\n",
    "from tensorflow.keras.layers import Dense, Input\n",
    "from tensorflow.keras.preprocessing.image import ImageDataGenerator\n",
    "from tensorflow.keras.applications.imagenet_utils import preprocess_input\n",
    "\n",
    "def auto_configure_model(model_path, dataset_path):\n",
    "    model = load_model(model_path)\n",
    "    temp_datagen = ImageDataGenerator(rescale=1. / 255)\n",
    "    temp_generator = temp_datagen.flow_from_directory(dataset_path, shuffle=False)\n",
    "    num_classes = temp_generator.num_classes\n",
    "\n",
    "    input_shape = model.input_shape[1:]\n",
    "    is_color = input_shape[-1] == 3\n",
    "\n",
    "    if num_classes == 2 and model.output_shape[-1] == 1:\n",
    "        input_layer = Input(shape=input_shape)\n",
    "        x = input_layer\n",
    "        for layer in model.layers[:-1]:\n",
    "            x = layer(x)\n",
    "        output = Dense(2, activation='softmax')(x)\n",
    "        model = Model(inputs=input_layer, outputs=output)\n",
    "        model.compile(optimizer='adam', loss='categorical_crossentropy', metrics=['accuracy'])\n",
    "\n",
    "    is_regression = model.output_shape[-1] == 1 and 'sigmoid' not in [\n",
    "        layer.activation.__name__ for layer in model.layers if hasattr(layer, 'activation')\n",
    "    ]\n",
    "\n",
    "    return {\n",
    "        'model': model,\n",
    "        'target_size': input_shape[:2],\n",
    "        'color_mode': 'rgb' if is_color else 'grayscale',\n",
    "        'class_mode': 'binary' if model.output_shape[-1] == 1 and not is_regression else 'categorical',\n",
    "        'preprocessing_function': preprocess_input if any(layer.name.startswith(('vgg', 'resnet', 'inception')) for layer in model.layers) else None,\n",
    "        'is_regression': is_regression,\n",
    "        'num_classes': num_classes\n",
    "    }\n",
    "\n",
    "def evaluate_model(config, dataset_path):\n",
    "    test_gen = ImageDataGenerator(\n",
    "        rescale=1./255,\n",
    "        preprocessing_function=config['preprocessing_function']\n",
    "    ).flow_from_directory(\n",
    "        dataset_path,\n",
    "        target_size=config['target_size'],\n",
    "        color_mode=config['color_mode'],\n",
    "        batch_size=32,\n",
    "        class_mode=config['class_mode'],\n",
    "        shuffle=False\n",
    "    )\n",
    "\n",
    "    results = config['model'].evaluate(test_gen)\n",
    "    return results[0] if config['is_regression'] else results[1]\n",
    "\n",
    "def save_results(metric, config, output_file):\n",
    "    result_data = {\n",
    "        \"accuracy\": round(metric * 100, 2) if not config['is_regression'] else None,\n",
    "        \"mse\": round(metric, 4) if config['is_regression'] else None,\n",
    "        \"task\": \"regression\" if config['is_regression'] else \"classification\",\n",
    "        \"num_classes\": config['num_classes']\n",
    "    }\n",
    "\n",
    "    with open(output_file, 'w') as f:\n",
    "        json.dump(result_data, f, indent=4)\n",
    "\n",
    "if __name__ == \"__main__\":\n",
    "    try:\n",
    "        with open(\"uploads/config.json\", \"r\") as f:\n",
    "            config_data = json.load(f)\n",
    "\n",
    "        model_path = config_data[\"models\"][0]\n",
    "        dataset_path = config_data[\"datasets\"][0]\n",
    "        output_path = os.path.join(\"uploads\", \"accuracy1.json\")\n",
    "\n",
    "        config = auto_configure_model(model_path, dataset_path)\n",
    "        metric = evaluate_model(config, dataset_path)\n",
    "        save_results(metric, config, output_path)\n",
    "\n",
    "        model_path = config_data[\"models\"][1]\n",
    "        dataset_path = config_data[\"datasets\"][1]\n",
    "        output_path = os.path.join(\"uploads\", \"accuracy2.json\")\n",
    "\n",
    "        config = auto_configure_model(model_path, dataset_path)\n",
    "        metric = evaluate_model(config, dataset_path)\n",
    "        save_results(metric, config, output_path)\n",
    "\n",
    "    except Exception as e:\n",
    "        with open(\"uploads/error.log\", \"w\") as f:\n",
    "            f.write(str(e))\n"
   ]
  },
  {
   "cell_type": "code",
   "execution_count": null,
   "metadata": {},
   "outputs": [],
   "source": []
  }
 ],
 "metadata": {
  "kernelspec": {
   "display_name": "Python 3",
   "language": "python",
   "name": "python3"
  },
  "language_info": {
   "codemirror_mode": {
    "name": "ipython",
    "version": 3
   },
   "file_extension": ".py",
   "mimetype": "text/x-python",
   "name": "python",
   "nbconvert_exporter": "python",
   "pygments_lexer": "ipython3",
   "version": "3.12.0"
  }
 },
 "nbformat": 4,
 "nbformat_minor": 4
}
